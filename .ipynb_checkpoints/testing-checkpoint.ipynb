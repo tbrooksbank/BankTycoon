{
 "cells": [
  {
   "cell_type": "code",
   "execution_count": null,
   "metadata": {
    "collapsed": true
   },
   "outputs": [],
   "source": [
    "import pandas as pd\n",
    "\n",
    "bs = {  'Category': ['Assets',\n",
    "                     'Assets',\n",
    "                     'Assets',\n",
    "                     'Assets',\n",
    "                     'Assets',\n",
    "                     'Assets',\n",
    "                     'Liabilities',\n",
    "                     'Liabilities',\n",
    "                     'Liabilities',\n",
    "                     'Equity',\n",
    "                     'Equity',\n",
    "                     'Equity',\n",
    "                     'Equity'],\n",
    "        'Class': [      'Cash and Balances at Bank',\n",
    "                        'Treasury Investments',\n",
    "                        'Loans and Advances to Customers',\n",
    "                        'Other Assets',\n",
    "                        'Property Plant and Equipment',\n",
    "                        'Investment in Subsidiaries',\n",
    "                        'Customer Deposits',\n",
    "                        'Subordinated Debt',\n",
    "                        'Other Liabilities',\n",
    "                        'Share Capital',\n",
    "                        'Share Premium',\n",
    "                        'Other Reserves',\n",
    "                        'Profit and Loss'\n",
    "                        ],\n",
    "        'Value': [10000000\n",
    "                  0\n",
    "                  0\n",
    "                  0\n",
    "                  0\n",
    "                  0\n",
    "                  0\n",
    "                  0\n",
    "                  0\n",
    "                  100000\n",
    "                  900000\n",
    "                  0\n",
    "                  0]}\n",
    "\n",
    "bs_structure = pd.DataFrame(data=bs)\n",
    "bs_structure"
   ]
  },
  {
   "cell_type": "code",
   "execution_count": null,
   "outputs": [],
   "source": [],
   "metadata": {
    "collapsed": false,
    "pycharm": {
     "name": "#%%\n"
    }
   }
  }
 ],
 "metadata": {
  "kernelspec": {
   "display_name": "Python 3",
   "language": "python",
   "name": "python3"
  },
  "language_info": {
   "codemirror_mode": {
    "name": "ipython",
    "version": 2
   },
   "file_extension": ".py",
   "mimetype": "text/x-python",
   "name": "python",
   "nbconvert_exporter": "python",
   "pygments_lexer": "ipython2",
   "version": "2.7.6"
  }
 },
 "nbformat": 4,
 "nbformat_minor": 0
}